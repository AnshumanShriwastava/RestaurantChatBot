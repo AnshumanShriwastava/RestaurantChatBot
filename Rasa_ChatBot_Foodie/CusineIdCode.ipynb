{
 "cells": [
  {
   "cell_type": "code",
   "execution_count": 84,
   "metadata": {},
   "outputs": [],
   "source": [
    "from __future__ import absolute_import\n",
    "from __future__ import division\n",
    "from __future__ import unicode_literals"
   ]
  },
  {
   "cell_type": "code",
   "execution_count": 101,
   "metadata": {},
   "outputs": [],
   "source": [
    "import zomatopy\n",
    "import json\n",
    "import requests\n",
    "import ast"
   ]
  },
  {
   "cell_type": "code",
   "execution_count": 102,
   "metadata": {},
   "outputs": [],
   "source": [
    "config={ \"user_key\":\"279658393d35002cb45c944d0dd06691\"} #New Generated id added\n",
    "zomato = zomatopy.initialize_app(config)"
   ]
  },
  {
   "cell_type": "code",
   "execution_count": 103,
   "metadata": {},
   "outputs": [],
   "source": [
    "loc = 'Delhi'\n",
    "budget = 'medium'\n",
    "cuisine = 'Chinese'"
   ]
  },
  {
   "cell_type": "code",
   "execution_count": 104,
   "metadata": {},
   "outputs": [],
   "source": [
    "location_detail=zomato.get_location(loc, 1)"
   ]
  },
  {
   "cell_type": "code",
   "execution_count": 105,
   "metadata": {},
   "outputs": [],
   "source": [
    "d1 = json.loads(location_detail)\n",
    "lat=d1[\"location_suggestions\"][0][\"latitude\"]\n",
    "lon=d1[\"location_suggestions\"][0][\"longitude\"]"
   ]
  },
  {
   "cell_type": "code",
   "execution_count": 106,
   "metadata": {},
   "outputs": [
    {
     "data": {
      "text/plain": [
       "1"
      ]
     },
     "execution_count": 106,
     "metadata": {},
     "output_type": "execute_result"
    }
   ],
   "source": [
    "d1[\"location_suggestions\"][0][\"city_id\"]"
   ]
  },
  {
   "cell_type": "code",
   "execution_count": 107,
   "metadata": {},
   "outputs": [
    {
     "data": {
      "text/plain": [
       "'Delhi NCR'"
      ]
     },
     "execution_count": 107,
     "metadata": {},
     "output_type": "execute_result"
    }
   ],
   "source": [
    "d1[\"location_suggestions\"][0][\"city_name\"]"
   ]
  },
  {
   "cell_type": "code",
   "execution_count": 108,
   "metadata": {},
   "outputs": [],
   "source": [
    "#zomato.get_cuisines(d1[\"location_suggestions\"][0][\"city_id\"])"
   ]
  },
  {
   "cell_type": "code",
   "execution_count": 109,
   "metadata": {},
   "outputs": [],
   "source": [
    "cuisines_dict={'Chinese':25,'Mexican':73,'Italian':55,'American':1,'South Indian':85,'North Indian':50}"
   ]
  },
  {
   "cell_type": "code",
   "execution_count": 110,
   "metadata": {
    "scrolled": true
   },
   "outputs": [
    {
     "data": {
      "text/plain": [
       "'25'"
      ]
     },
     "execution_count": 110,
     "metadata": {},
     "output_type": "execute_result"
    }
   ],
   "source": [
    "str(cuisines_dict.get('Chinese'))"
   ]
  },
  {
   "cell_type": "code",
   "execution_count": 143,
   "metadata": {},
   "outputs": [],
   "source": [
    "if (budget == 'low'):\n",
    "        lowercost = 0\n",
    "        highercost = 300\n",
    "elif (budget == 'medium'):\n",
    "        lowercost = 300\n",
    "        highercost = 700\n",
    "elif (budget == 'high'):\n",
    "        lowercost = 700\n",
    "        highercost = 999999 "
   ]
  },
  {
   "cell_type": "code",
   "execution_count": 147,
   "metadata": {},
   "outputs": [],
   "source": [
    "  #creating custom function to accomodate sort,order,start,limit\n",
    "def restaurant_search_custom(query=\"\", latitude=\"\", longitude=\"\", cuisines=\"\", limit=20, start=0, sort=\"\", order=\"\"):\n",
    "            \"\"\"\n",
    "            Takes either query, latitude and longitude or cuisine as input.\n",
    "            Returns a list of Restaurant IDs.\n",
    "            \"\"\"\n",
    "            cuisines = \"%2C\".join(cuisines.split(\",\"))\n",
    "            base_url=\"https://developers.zomato.com/api/v2.1/\"\n",
    "            if str(limit).isalpha() == True:\n",
    "                raise ValueError('LimitNotInteger')\n",
    "            headers = {'Accept': 'application/json', 'user-key': \"279658393d35002cb45c944d0dd06691\"}\n",
    "            r = (requests.get(base_url + \"search?\"+ \"count=\" + str(limit) + \"&lat=\" + str(latitude) + \"&lon=\" + str(longitude) + \"&cuisines=\" + str(cuisines) + \"&sort=\" + str(sort) + \"&order=\" + str(order)+ \"&start=\" + str(start) , headers=headers).content).decode(\"utf-8\")\n",
    "            #a = ast.literal_eval(r)\n",
    "            jsonParsed  = json.loads(r)\n",
    "            return jsonParsed['restaurants']"
   ]
  },
  {
   "cell_type": "code",
   "execution_count": 148,
   "metadata": {},
   "outputs": [],
   "source": [
    "    #filtering retaurants by rating, budget\n",
    "def restraunt_search_rating_order(latitude=\"\", longitude=\"\", cuisines=\"\", lowercost=0, highercost=999999):\n",
    "\n",
    "            restraunts = []\n",
    "            start = 0\n",
    "            sort = \"rating\"\n",
    "            order = \"desc\" \n",
    "            while(len(restraunts) < 5):\n",
    "                    returnList = restaurant_search_custom(\"\", lat, lon, str(cuisines_dict.get(cuisine)), 20,start,sort,order)\n",
    "                    # iterate list to add items if fall in category\n",
    "                    for returnItem in returnList:\n",
    "                            #jsonParsed  = json.loads(returnItem)\n",
    "                            if((len(restraunts) < 5) and (lowercost <= returnItem['restaurant']['average_cost_for_two']) and (returnItem['restaurant']['average_cost_for_two'] <= highercost)):\n",
    "                                    restraunts.append(returnItem)\n",
    "                    start = start + 20                \n",
    "\n",
    "            return restraunts "
   ]
  },
  {
   "cell_type": "code",
   "execution_count": 149,
   "metadata": {},
   "outputs": [
    {
     "name": "stdout",
     "output_type": "stream",
     "text": [
      "Found Snacks PointFound Kahi Bhi Kuch BhiFound Global PlattersFound The Curry Grill-TCGFound Urban O Chaska\n"
     ]
    }
   ],
   "source": [
    "results = restraunt_search_rating_order(lat, lon, str(cuisines_dict.get(cuisine)),lowercost, highercost)\n",
    "response=\"\"\n",
    "if len(results) == 0:\n",
    "    response= \"no results\"\n",
    "else:\n",
    "    for restaurant in results:\n",
    "        response=response+ \"Found \"+ restaurant['restaurant']['name'] + \" in \"+ restaurant['restaurant']['location']['address']+ str(restaurant['rating'])+\"\\n\"\n",
    "#dispatcher.utter_message(\"---------\"+response)"
   ]
  },
  {
   "cell_type": "code",
   "execution_count": 12,
   "metadata": {},
   "outputs": [],
   "source": [
    "results=zomato.restaurant_search(\"\", lat, lon, str(cuisines_dict.get(\"Chinese\")), 200)"
   ]
  },
  {
   "cell_type": "code",
   "execution_count": 13,
   "metadata": {},
   "outputs": [],
   "source": [
    "d = json.loads(results)"
   ]
  },
  {
   "cell_type": "code",
   "execution_count": 14,
   "metadata": {},
   "outputs": [],
   "source": [
    "restaurant_found_list = []"
   ]
  },
  {
   "cell_type": "code",
   "execution_count": 15,
   "metadata": {},
   "outputs": [],
   "source": [
    "for restaurant in d['restaurants']:\n",
    "    restaurant_found_list.append(\n",
    "        {\n",
    "            \"Restauran_Name\" : restaurant['restaurant']['name'],\n",
    "\t\t\t\"Address\" : restaurant['restaurant']['location']['address'],\n",
    "\t\t\t\"Rating\" : restaurant['restaurant']['user_rating']['aggregate_rating'],\n",
    "\t\t\t\"Budget\" : restaurant['restaurant']['average_cost_for_two']\n",
    "\t\t}\n",
    "\t)"
   ]
  },
  {
   "cell_type": "code",
   "execution_count": 16,
   "metadata": {},
   "outputs": [
    {
     "data": {
      "text/plain": [
       "20"
      ]
     },
     "execution_count": 16,
     "metadata": {},
     "output_type": "execute_result"
    }
   ],
   "source": [
    "len(restaurant_found_list)"
   ]
  },
  {
   "cell_type": "code",
   "execution_count": 17,
   "metadata": {},
   "outputs": [],
   "source": [
    "budget = 'high'\n",
    "restaurant_filtered_list = []\n",
    "for restaurant in restaurant_found_list:\n",
    "\tif ((budget == 'low') and (restaurant['Budget'] < 300)):\n",
    "\t\trestaurant_filtered_list.append(restaurant)\n",
    "\telif ((budget == 'medium') and (restaurant['Budget'] >= 300) and (restaurant['Budget'] <= 700)):\n",
    "\t\trestaurant_filtered_list.append(restaurant)\n",
    "\telif ((budget == 'high') and (restaurant['Budget'] > 700)):\n",
    "\t\trestaurant_filtered_list.append(restaurant)"
   ]
  },
  {
   "cell_type": "code",
   "execution_count": 18,
   "metadata": {},
   "outputs": [
    {
     "data": {
      "text/plain": [
       "[{'Restauran_Name': 'Boa Village',\n",
       "  'Address': '13, Alipur Road, Civil Lines, New Delhi',\n",
       "  'Rating': '4.3',\n",
       "  'Budget': 2300},\n",
       " {'Restauran_Name': 'Pa Pa Ya',\n",
       "  'Address': 'A-3, Select Citywalk, District Centre, Saket, New Delhi',\n",
       "  'Rating': '4.9',\n",
       "  'Budget': 2500},\n",
       " {'Restauran_Name': 'Plum By Bent Chair',\n",
       "  'Address': 'Ground Floor, Worldmark 2, Aerocity, New Delhi',\n",
       "  'Rating': '4.6',\n",
       "  'Budget': 2200},\n",
       " {'Restauran_Name': 'Yeti - The Himalayan Kitchen',\n",
       "  'Address': 'T 7 A, Khirki Extension, Malviya Nagar, New Delhi',\n",
       "  'Rating': '4.4',\n",
       "  'Budget': 1500},\n",
       " {'Restauran_Name': 'Enoki - Fresh Asian Kitchen',\n",
       "  'Address': 'Greater Kailash (GK) 1, New Delhi',\n",
       "  'Rating': '4.0',\n",
       "  'Budget': 1000},\n",
       " {'Restauran_Name': 'Kylin Experience',\n",
       "  'Address': 'T-302, 3rd Floor, Ambience Mall, Vasant Kunj, New Delhi',\n",
       "  'Rating': '4.2',\n",
       "  'Budget': 1800},\n",
       " {'Restauran_Name': 'Noshi - Yum Asian Delivery',\n",
       "  'Address': '23, Community Centre, Zamrudpur, Greater Kailash 1 (GK 1), New Delhi',\n",
       "  'Rating': '4.2',\n",
       "  'Budget': 1000},\n",
       " {'Restauran_Name': 'Kylin Skybar',\n",
       "  'Address': 'T-302, 3rd Floor, Ambience Mall, Vasant Kunj, New Delhi',\n",
       "  'Rating': '4.1',\n",
       "  'Budget': 2300},\n",
       " {'Restauran_Name': 'You Mee',\n",
       "  'Address': 'M 27, Ground Floor, Greater Kailash 2 (GK 2), New Delhi',\n",
       "  'Rating': '4.5',\n",
       "  'Budget': 1000},\n",
       " {'Restauran_Name': 'Honk - Pullman New Delhi Aerocity',\n",
       "  'Address': 'Asset 2, GMR Hospitality District, Near IGI Airport, Aerocity, New Delhi',\n",
       "  'Rating': '4.6',\n",
       "  'Budget': 2500},\n",
       " {'Restauran_Name': \"Master Koii's\",\n",
       "  'Address': 'Shop 19, Flavor Town, Bestech Chambers, Sushant Lok, Gurgaon',\n",
       "  'Rating': '4.4',\n",
       "  'Budget': 1900},\n",
       " {'Restauran_Name': \"Nagaland's Kitchen\",\n",
       "  'Address': 'S-2, Uphaar Cinema Complex, Green Park Extension Market, Green Park, New Delhi',\n",
       "  'Rating': '4.3',\n",
       "  'Budget': 1500},\n",
       " {'Restauran_Name': 'Jom Jom Malay',\n",
       "  'Address': 'S12-A, 2nd Floor, Select City Walk, Saket, New Delhi',\n",
       "  'Rating': '4.4',\n",
       "  'Budget': 1800},\n",
       " {'Restauran_Name': 'Mamagoto',\n",
       "  'Address': '53, 1st Floor, Middle Lane, Khan Market, New Delhi',\n",
       "  'Rating': '4.1',\n",
       "  'Budget': 1500},\n",
       " {'Restauran_Name': 'Plum By Bent Chair',\n",
       "  'Address': '22, Janpath Road, Janpath, New Delhi',\n",
       "  'Rating': '4.4',\n",
       "  'Budget': 2200}]"
      ]
     },
     "execution_count": 18,
     "metadata": {},
     "output_type": "execute_result"
    }
   ],
   "source": [
    "restaurant_filtered_list"
   ]
  },
  {
   "cell_type": "code",
   "execution_count": 19,
   "metadata": {},
   "outputs": [
    {
     "data": {
      "text/plain": [
       "15"
      ]
     },
     "execution_count": 19,
     "metadata": {},
     "output_type": "execute_result"
    }
   ],
   "source": [
    "number_of_restaurants_filtered = len(restaurant_filtered_list)\n",
    "number_of_restaurants_filtered"
   ]
  },
  {
   "cell_type": "code",
   "execution_count": 20,
   "metadata": {},
   "outputs": [
    {
     "data": {
      "text/plain": [
       "[{'Restauran_Name': 'Pa Pa Ya',\n",
       "  'Address': 'A-3, Select Citywalk, District Centre, Saket, New Delhi',\n",
       "  'Rating': '4.9',\n",
       "  'Budget': 2500},\n",
       " {'Restauran_Name': 'Honk - Pullman New Delhi Aerocity',\n",
       "  'Address': 'Asset 2, GMR Hospitality District, Near IGI Airport, Aerocity, New Delhi',\n",
       "  'Rating': '4.6',\n",
       "  'Budget': 2500},\n",
       " {'Restauran_Name': 'Boa Village',\n",
       "  'Address': '13, Alipur Road, Civil Lines, New Delhi',\n",
       "  'Rating': '4.3',\n",
       "  'Budget': 2300},\n",
       " {'Restauran_Name': 'Kylin Skybar',\n",
       "  'Address': 'T-302, 3rd Floor, Ambience Mall, Vasant Kunj, New Delhi',\n",
       "  'Rating': '4.1',\n",
       "  'Budget': 2300},\n",
       " {'Restauran_Name': 'Plum By Bent Chair',\n",
       "  'Address': 'Ground Floor, Worldmark 2, Aerocity, New Delhi',\n",
       "  'Rating': '4.6',\n",
       "  'Budget': 2200},\n",
       " {'Restauran_Name': 'Plum By Bent Chair',\n",
       "  'Address': '22, Janpath Road, Janpath, New Delhi',\n",
       "  'Rating': '4.4',\n",
       "  'Budget': 2200},\n",
       " {'Restauran_Name': \"Master Koii's\",\n",
       "  'Address': 'Shop 19, Flavor Town, Bestech Chambers, Sushant Lok, Gurgaon',\n",
       "  'Rating': '4.4',\n",
       "  'Budget': 1900},\n",
       " {'Restauran_Name': 'Kylin Experience',\n",
       "  'Address': 'T-302, 3rd Floor, Ambience Mall, Vasant Kunj, New Delhi',\n",
       "  'Rating': '4.2',\n",
       "  'Budget': 1800},\n",
       " {'Restauran_Name': 'Jom Jom Malay',\n",
       "  'Address': 'S12-A, 2nd Floor, Select City Walk, Saket, New Delhi',\n",
       "  'Rating': '4.4',\n",
       "  'Budget': 1800},\n",
       " {'Restauran_Name': 'Yeti - The Himalayan Kitchen',\n",
       "  'Address': 'T 7 A, Khirki Extension, Malviya Nagar, New Delhi',\n",
       "  'Rating': '4.4',\n",
       "  'Budget': 1500},\n",
       " {'Restauran_Name': \"Nagaland's Kitchen\",\n",
       "  'Address': 'S-2, Uphaar Cinema Complex, Green Park Extension Market, Green Park, New Delhi',\n",
       "  'Rating': '4.3',\n",
       "  'Budget': 1500},\n",
       " {'Restauran_Name': 'Mamagoto',\n",
       "  'Address': '53, 1st Floor, Middle Lane, Khan Market, New Delhi',\n",
       "  'Rating': '4.1',\n",
       "  'Budget': 1500},\n",
       " {'Restauran_Name': 'Enoki - Fresh Asian Kitchen',\n",
       "  'Address': 'Greater Kailash (GK) 1, New Delhi',\n",
       "  'Rating': '4.0',\n",
       "  'Budget': 1000},\n",
       " {'Restauran_Name': 'Noshi - Yum Asian Delivery',\n",
       "  'Address': '23, Community Centre, Zamrudpur, Greater Kailash 1 (GK 1), New Delhi',\n",
       "  'Rating': '4.2',\n",
       "  'Budget': 1000},\n",
       " {'Restauran_Name': 'You Mee',\n",
       "  'Address': 'M 27, Ground Floor, Greater Kailash 2 (GK 2), New Delhi',\n",
       "  'Rating': '4.5',\n",
       "  'Budget': 1000}]"
      ]
     },
     "execution_count": 20,
     "metadata": {},
     "output_type": "execute_result"
    }
   ],
   "source": [
    "sorted(restaurant_filtered_list, key=lambda x: x['Budget'], reverse=True)"
   ]
  },
  {
   "cell_type": "code",
   "execution_count": 21,
   "metadata": {},
   "outputs": [
    {
     "name": "stdout",
     "output_type": "stream",
     "text": [
      "Pa Pa Ya\n",
      "Plum By Bent Chair\n",
      "Honk - Pullman New Delhi Aerocity\n",
      "You Mee\n",
      "Yeti - The Himalayan Kitchen\n",
      "Master Koii's\n",
      "Jom Jom Malay\n",
      "Plum By Bent Chair\n",
      "Boa Village\n",
      "Nagaland's Kitchen\n",
      "Kylin Experience\n",
      "Noshi - Yum Asian Delivery\n",
      "Kylin Skybar\n",
      "Mamagoto\n",
      "Enoki - Fresh Asian Kitchen\n"
     ]
    }
   ],
   "source": [
    "for restaurantdetail in sorted(restaurant_filtered_list, key=lambda x: float(x['Rating']), reverse=True):\n",
    "    print(restaurantdetail['Restauran_Name'])"
   ]
  },
  {
   "cell_type": "code",
   "execution_count": null,
   "metadata": {},
   "outputs": [],
   "source": []
  },
  {
   "cell_type": "code",
   "execution_count": null,
   "metadata": {},
   "outputs": [],
   "source": []
  },
  {
   "cell_type": "code",
   "execution_count": null,
   "metadata": {},
   "outputs": [],
   "source": []
  }
 ],
 "metadata": {
  "kernelspec": {
   "display_name": "Python 3",
   "language": "python",
   "name": "python3"
  },
  "language_info": {
   "codemirror_mode": {
    "name": "ipython",
    "version": 3
   },
   "file_extension": ".py",
   "mimetype": "text/x-python",
   "name": "python",
   "nbconvert_exporter": "python",
   "pygments_lexer": "ipython3",
   "version": "3.8.3"
  }
 },
 "nbformat": 4,
 "nbformat_minor": 4
}
