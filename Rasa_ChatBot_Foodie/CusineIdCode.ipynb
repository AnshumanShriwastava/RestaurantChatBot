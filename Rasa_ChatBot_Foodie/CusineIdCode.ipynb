{
 "cells": [
  {
   "cell_type": "code",
   "execution_count": 1,
   "metadata": {},
   "outputs": [],
   "source": [
    "from __future__ import absolute_import\n",
    "from __future__ import division\n",
    "from __future__ import unicode_literals"
   ]
  },
  {
   "cell_type": "code",
   "execution_count": 2,
   "metadata": {},
   "outputs": [],
   "source": [
    "import zomatopy\n",
    "import json"
   ]
  },
  {
   "cell_type": "code",
   "execution_count": 3,
   "metadata": {},
   "outputs": [],
   "source": [
    "config={ \"user_key\":\"279658393d35002cb45c944d0dd06691\"} #New Generated id added\n",
    "zomato = zomatopy.initialize_app(config)"
   ]
  },
  {
   "cell_type": "code",
   "execution_count": 4,
   "metadata": {},
   "outputs": [],
   "source": [
    "loc = 'Delhi'"
   ]
  },
  {
   "cell_type": "code",
   "execution_count": 5,
   "metadata": {},
   "outputs": [],
   "source": [
    "location_detail=zomato.get_location(loc, 1)"
   ]
  },
  {
   "cell_type": "code",
   "execution_count": 6,
   "metadata": {},
   "outputs": [],
   "source": [
    "d1 = json.loads(location_detail)\n",
    "lat=d1[\"location_suggestions\"][0][\"latitude\"]\n",
    "lon=d1[\"location_suggestions\"][0][\"longitude\"]"
   ]
  },
  {
   "cell_type": "code",
   "execution_count": 7,
   "metadata": {},
   "outputs": [
    {
     "data": {
      "text/plain": [
       "1"
      ]
     },
     "execution_count": 7,
     "metadata": {},
     "output_type": "execute_result"
    }
   ],
   "source": [
    "d1[\"location_suggestions\"][0][\"city_id\"]"
   ]
  },
  {
   "cell_type": "code",
   "execution_count": 8,
   "metadata": {},
   "outputs": [
    {
     "data": {
      "text/plain": [
       "'Delhi NCR'"
      ]
     },
     "execution_count": 8,
     "metadata": {},
     "output_type": "execute_result"
    }
   ],
   "source": [
    "d1[\"location_suggestions\"][0][\"city_name\"]"
   ]
  },
  {
   "cell_type": "code",
   "execution_count": 9,
   "metadata": {},
   "outputs": [],
   "source": [
    "#zomato.get_cuisines(d1[\"location_suggestions\"][0][\"city_id\"])"
   ]
  },
  {
   "cell_type": "code",
   "execution_count": 10,
   "metadata": {},
   "outputs": [],
   "source": [
    "cuisines_dict={'Chinese':25,'Mexican':73,'Italian':55,'American':1,'South Indian':85,'North Indian':50}"
   ]
  },
  {
   "cell_type": "code",
   "execution_count": 11,
   "metadata": {},
   "outputs": [
    {
     "data": {
      "text/plain": [
       "'25'"
      ]
     },
     "execution_count": 11,
     "metadata": {},
     "output_type": "execute_result"
    }
   ],
   "source": [
    "str(cuisines_dict.get('Chinese'))"
   ]
  },
  {
   "cell_type": "code",
   "execution_count": 12,
   "metadata": {},
   "outputs": [],
   "source": [
    "results=zomato.restaurant_search(\"\", lat, lon, str(cuisines_dict.get(\"Chinese\")), 200)"
   ]
  },
  {
   "cell_type": "code",
   "execution_count": 13,
   "metadata": {},
   "outputs": [],
   "source": [
    "d = json.loads(results)"
   ]
  },
  {
   "cell_type": "code",
   "execution_count": 14,
   "metadata": {},
   "outputs": [],
   "source": [
    "restaurant_found_list = []"
   ]
  },
  {
   "cell_type": "code",
   "execution_count": 15,
   "metadata": {},
   "outputs": [],
   "source": [
    "for restaurant in d['restaurants']:\n",
    "    restaurant_found_list.append(\n",
    "        {\n",
    "            \"Restauran_Name\" : restaurant['restaurant']['name'],\n",
    "\t\t\t\"Address\" : restaurant['restaurant']['location']['address'],\n",
    "\t\t\t\"Rating\" : restaurant['restaurant']['user_rating']['aggregate_rating'],\n",
    "\t\t\t\"Budget\" : restaurant['restaurant']['average_cost_for_two']\n",
    "\t\t}\n",
    "\t)"
   ]
  },
  {
   "cell_type": "code",
   "execution_count": 16,
   "metadata": {},
   "outputs": [
    {
     "data": {
      "text/plain": [
       "20"
      ]
     },
     "execution_count": 16,
     "metadata": {},
     "output_type": "execute_result"
    }
   ],
   "source": [
    "len(restaurant_found_list)"
   ]
  },
  {
   "cell_type": "code",
   "execution_count": 17,
   "metadata": {},
   "outputs": [],
   "source": [
    "budget = 'high'\n",
    "restaurant_filtered_list = []\n",
    "for restaurant in restaurant_found_list:\n",
    "\tif ((budget == 'low') and (restaurant['Budget'] < 300)):\n",
    "\t\trestaurant_filtered_list.append(restaurant)\n",
    "\telif ((budget == 'medium') and (restaurant['Budget'] >= 300) and (restaurant['Budget'] <= 700)):\n",
    "\t\trestaurant_filtered_list.append(restaurant)\n",
    "\telif ((budget == 'high') and (restaurant['Budget'] > 700)):\n",
    "\t\trestaurant_filtered_list.append(restaurant)"
   ]
  },
  {
   "cell_type": "code",
   "execution_count": 18,
   "metadata": {},
   "outputs": [
    {
     "data": {
      "text/plain": [
       "[{'Restauran_Name': 'Boa Village',\n",
       "  'Address': '13, Alipur Road, Civil Lines, New Delhi',\n",
       "  'Rating': '4.3',\n",
       "  'Budget': 2300},\n",
       " {'Restauran_Name': 'Pa Pa Ya',\n",
       "  'Address': 'A-3, Select Citywalk, District Centre, Saket, New Delhi',\n",
       "  'Rating': '4.9',\n",
       "  'Budget': 2500},\n",
       " {'Restauran_Name': 'Plum By Bent Chair',\n",
       "  'Address': 'Ground Floor, Worldmark 2, Aerocity, New Delhi',\n",
       "  'Rating': '4.6',\n",
       "  'Budget': 2200},\n",
       " {'Restauran_Name': 'Yeti - The Himalayan Kitchen',\n",
       "  'Address': 'T 7 A, Khirki Extension, Malviya Nagar, New Delhi',\n",
       "  'Rating': '4.4',\n",
       "  'Budget': 1500},\n",
       " {'Restauran_Name': 'Enoki - Fresh Asian Kitchen',\n",
       "  'Address': 'Greater Kailash (GK) 1, New Delhi',\n",
       "  'Rating': '4.0',\n",
       "  'Budget': 1000},\n",
       " {'Restauran_Name': 'Kylin Experience',\n",
       "  'Address': 'T-302, 3rd Floor, Ambience Mall, Vasant Kunj, New Delhi',\n",
       "  'Rating': '4.2',\n",
       "  'Budget': 1800},\n",
       " {'Restauran_Name': 'Noshi - Yum Asian Delivery',\n",
       "  'Address': '23, Community Centre, Zamrudpur, Greater Kailash 1 (GK 1), New Delhi',\n",
       "  'Rating': '4.2',\n",
       "  'Budget': 1000},\n",
       " {'Restauran_Name': 'Kylin Skybar',\n",
       "  'Address': 'T-302, 3rd Floor, Ambience Mall, Vasant Kunj, New Delhi',\n",
       "  'Rating': '4.1',\n",
       "  'Budget': 2300},\n",
       " {'Restauran_Name': 'You Mee',\n",
       "  'Address': 'M 27, Ground Floor, Greater Kailash 2 (GK 2), New Delhi',\n",
       "  'Rating': '4.5',\n",
       "  'Budget': 1000},\n",
       " {'Restauran_Name': 'Honk - Pullman New Delhi Aerocity',\n",
       "  'Address': 'Asset 2, GMR Hospitality District, Near IGI Airport, Aerocity, New Delhi',\n",
       "  'Rating': '4.6',\n",
       "  'Budget': 2500},\n",
       " {'Restauran_Name': \"Master Koii's\",\n",
       "  'Address': 'Shop 19, Flavor Town, Bestech Chambers, Sushant Lok, Gurgaon',\n",
       "  'Rating': '4.4',\n",
       "  'Budget': 1900},\n",
       " {'Restauran_Name': \"Nagaland's Kitchen\",\n",
       "  'Address': 'S-2, Uphaar Cinema Complex, Green Park Extension Market, Green Park, New Delhi',\n",
       "  'Rating': '4.3',\n",
       "  'Budget': 1500},\n",
       " {'Restauran_Name': 'Jom Jom Malay',\n",
       "  'Address': 'S12-A, 2nd Floor, Select City Walk, Saket, New Delhi',\n",
       "  'Rating': '4.4',\n",
       "  'Budget': 1800},\n",
       " {'Restauran_Name': 'Mamagoto',\n",
       "  'Address': '53, 1st Floor, Middle Lane, Khan Market, New Delhi',\n",
       "  'Rating': '4.1',\n",
       "  'Budget': 1500},\n",
       " {'Restauran_Name': 'Plum By Bent Chair',\n",
       "  'Address': '22, Janpath Road, Janpath, New Delhi',\n",
       "  'Rating': '4.4',\n",
       "  'Budget': 2200}]"
      ]
     },
     "execution_count": 18,
     "metadata": {},
     "output_type": "execute_result"
    }
   ],
   "source": [
    "restaurant_filtered_list"
   ]
  },
  {
   "cell_type": "code",
   "execution_count": 19,
   "metadata": {},
   "outputs": [
    {
     "data": {
      "text/plain": [
       "15"
      ]
     },
     "execution_count": 19,
     "metadata": {},
     "output_type": "execute_result"
    }
   ],
   "source": [
    "number_of_restaurants_filtered = len(restaurant_filtered_list)\n",
    "number_of_restaurants_filtered"
   ]
  },
  {
   "cell_type": "code",
   "execution_count": 20,
   "metadata": {},
   "outputs": [
    {
     "data": {
      "text/plain": [
       "[{'Restauran_Name': 'Pa Pa Ya',\n",
       "  'Address': 'A-3, Select Citywalk, District Centre, Saket, New Delhi',\n",
       "  'Rating': '4.9',\n",
       "  'Budget': 2500},\n",
       " {'Restauran_Name': 'Honk - Pullman New Delhi Aerocity',\n",
       "  'Address': 'Asset 2, GMR Hospitality District, Near IGI Airport, Aerocity, New Delhi',\n",
       "  'Rating': '4.6',\n",
       "  'Budget': 2500},\n",
       " {'Restauran_Name': 'Boa Village',\n",
       "  'Address': '13, Alipur Road, Civil Lines, New Delhi',\n",
       "  'Rating': '4.3',\n",
       "  'Budget': 2300},\n",
       " {'Restauran_Name': 'Kylin Skybar',\n",
       "  'Address': 'T-302, 3rd Floor, Ambience Mall, Vasant Kunj, New Delhi',\n",
       "  'Rating': '4.1',\n",
       "  'Budget': 2300},\n",
       " {'Restauran_Name': 'Plum By Bent Chair',\n",
       "  'Address': 'Ground Floor, Worldmark 2, Aerocity, New Delhi',\n",
       "  'Rating': '4.6',\n",
       "  'Budget': 2200},\n",
       " {'Restauran_Name': 'Plum By Bent Chair',\n",
       "  'Address': '22, Janpath Road, Janpath, New Delhi',\n",
       "  'Rating': '4.4',\n",
       "  'Budget': 2200},\n",
       " {'Restauran_Name': \"Master Koii's\",\n",
       "  'Address': 'Shop 19, Flavor Town, Bestech Chambers, Sushant Lok, Gurgaon',\n",
       "  'Rating': '4.4',\n",
       "  'Budget': 1900},\n",
       " {'Restauran_Name': 'Kylin Experience',\n",
       "  'Address': 'T-302, 3rd Floor, Ambience Mall, Vasant Kunj, New Delhi',\n",
       "  'Rating': '4.2',\n",
       "  'Budget': 1800},\n",
       " {'Restauran_Name': 'Jom Jom Malay',\n",
       "  'Address': 'S12-A, 2nd Floor, Select City Walk, Saket, New Delhi',\n",
       "  'Rating': '4.4',\n",
       "  'Budget': 1800},\n",
       " {'Restauran_Name': 'Yeti - The Himalayan Kitchen',\n",
       "  'Address': 'T 7 A, Khirki Extension, Malviya Nagar, New Delhi',\n",
       "  'Rating': '4.4',\n",
       "  'Budget': 1500},\n",
       " {'Restauran_Name': \"Nagaland's Kitchen\",\n",
       "  'Address': 'S-2, Uphaar Cinema Complex, Green Park Extension Market, Green Park, New Delhi',\n",
       "  'Rating': '4.3',\n",
       "  'Budget': 1500},\n",
       " {'Restauran_Name': 'Mamagoto',\n",
       "  'Address': '53, 1st Floor, Middle Lane, Khan Market, New Delhi',\n",
       "  'Rating': '4.1',\n",
       "  'Budget': 1500},\n",
       " {'Restauran_Name': 'Enoki - Fresh Asian Kitchen',\n",
       "  'Address': 'Greater Kailash (GK) 1, New Delhi',\n",
       "  'Rating': '4.0',\n",
       "  'Budget': 1000},\n",
       " {'Restauran_Name': 'Noshi - Yum Asian Delivery',\n",
       "  'Address': '23, Community Centre, Zamrudpur, Greater Kailash 1 (GK 1), New Delhi',\n",
       "  'Rating': '4.2',\n",
       "  'Budget': 1000},\n",
       " {'Restauran_Name': 'You Mee',\n",
       "  'Address': 'M 27, Ground Floor, Greater Kailash 2 (GK 2), New Delhi',\n",
       "  'Rating': '4.5',\n",
       "  'Budget': 1000}]"
      ]
     },
     "execution_count": 20,
     "metadata": {},
     "output_type": "execute_result"
    }
   ],
   "source": [
    "sorted(restaurant_filtered_list, key=lambda x: x['Budget'], reverse=True)"
   ]
  },
  {
   "cell_type": "code",
   "execution_count": 21,
   "metadata": {},
   "outputs": [
    {
     "name": "stdout",
     "output_type": "stream",
     "text": [
      "Pa Pa Ya\n",
      "Plum By Bent Chair\n",
      "Honk - Pullman New Delhi Aerocity\n",
      "You Mee\n",
      "Yeti - The Himalayan Kitchen\n",
      "Master Koii's\n",
      "Jom Jom Malay\n",
      "Plum By Bent Chair\n",
      "Boa Village\n",
      "Nagaland's Kitchen\n",
      "Kylin Experience\n",
      "Noshi - Yum Asian Delivery\n",
      "Kylin Skybar\n",
      "Mamagoto\n",
      "Enoki - Fresh Asian Kitchen\n"
     ]
    }
   ],
   "source": [
    "for restaurantdetail in sorted(restaurant_filtered_list, key=lambda x: float(x['Rating']), reverse=True):\n",
    "    print(restaurantdetail['Restauran_Name'])"
   ]
  },
  {
   "cell_type": "code",
   "execution_count": 22,
   "metadata": {},
   "outputs": [],
   "source": [
    "import smtplib\n",
    "from email.mime.multipart import MIMEMultipart\n",
    "from email.mime.text import MIMEText"
   ]
  },
  {
   "cell_type": "code",
   "execution_count": 23,
   "metadata": {},
   "outputs": [
    {
     "name": "stdout",
     "output_type": "stream",
     "text": [
      "Mail Sent\n"
     ]
    }
   ],
   "source": [
    "mail_content = \"Welcome test from Foodie app\"\n",
    "#The mail addresses and password\n",
    "sender_address = 'anshumanshriwas.dml17@iiitb.net'\n",
    "sender_pass = 'anshu_5492'\n",
    "receiver_address = 'anshu5492@gmail.com'\n",
    "#Setup the MIME\n",
    "message = MIMEMultipart()\n",
    "message['From'] = sender_address\n",
    "message['To'] = receiver_address\n",
    "message['Subject'] = 'A test mail sent by Python. It has an attachment.'   #The subject line\n",
    "#The body and the attachments for the mail\n",
    "message.attach(MIMEText(mail_content, 'plain'))\n",
    "#Create SMTP session for sending the mail\n",
    "session = smtplib.SMTP('smtp.gmail.com', 587) #use gmail with port\n",
    "session.starttls() #enable security\n",
    "session.login(sender_address, sender_pass) #login with mail_id and password\n",
    "text = message.as_string()\n",
    "session.sendmail(sender_address, receiver_address, text)\n",
    "session.quit()\n",
    "print('Mail Sent')"
   ]
  },
  {
   "cell_type": "code",
   "execution_count": null,
   "metadata": {},
   "outputs": [],
   "source": []
  }
 ],
 "metadata": {
  "kernelspec": {
   "display_name": "rasa_installation",
   "language": "python",
   "name": "rasa_installation"
  },
  "language_info": {
   "codemirror_mode": {
    "name": "ipython",
    "version": 3
   },
   "file_extension": ".py",
   "mimetype": "text/x-python",
   "name": "python",
   "nbconvert_exporter": "python",
   "pygments_lexer": "ipython3",
   "version": "3.7.9"
  }
 },
 "nbformat": 4,
 "nbformat_minor": 4
}
